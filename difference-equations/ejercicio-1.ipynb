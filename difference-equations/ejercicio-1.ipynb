{
 "cells": [
  {
   "attachments": {},
   "cell_type": "markdown",
   "metadata": {},
   "source": [
    "## Ejercicio 1\n",
    "\n",
    " Use SymPy para resolver la ecuación de crecimiento cuadrático con otro tipo de parametrización (ecuación 3.8 del apunte):\n",
    "\n",
    "$$ \\frac{dx(t)}{dt} = \\alpha x(t) + \\beta x^2(t) $$\n"
   ]
  },
  {
   "cell_type": "code",
   "execution_count": 1,
   "metadata": {},
   "outputs": [
    {
     "name": "stdout",
     "output_type": "stream",
     "text": [
      "Requirement already satisfied: sympy in /home/chester/.local/lib/python3.10/site-packages (1.11.1)\n",
      "Requirement already satisfied: mpmath>=0.19 in /home/chester/.local/lib/python3.10/site-packages (from sympy) (1.3.0)\n",
      "Note: you may need to restart the kernel to use updated packages.\n"
     ]
    }
   ],
   "source": [
    "%pip install sympy"
   ]
  },
  {
   "attachments": {},
   "cell_type": "markdown",
   "metadata": {},
   "source": [
    "#### 1. Definimos los símbolos `alpha`, `beta` y `x`."
   ]
  },
  {
   "cell_type": "code",
   "execution_count": 26,
   "metadata": {},
   "outputs": [],
   "source": [
    "from sympy import symbols, Function\n",
    "\n",
    "alpha, beta, t = symbols(\"alpha beta t\")\n",
    "x = Function(\"x\")"
   ]
  },
  {
   "attachments": {},
   "cell_type": "markdown",
   "metadata": {},
   "source": [
    "#### 2. Definimos la ecuación diferencial."
   ]
  },
  {
   "cell_type": "code",
   "execution_count": 27,
   "metadata": {},
   "outputs": [
    {
     "data": {
      "text/latex": [
       "$\\displaystyle \\frac{d}{d t} x{\\left(t \\right)} = \\alpha x{\\left(t \\right)} + \\beta x^{2}{\\left(t \\right)}$"
      ],
      "text/plain": [
       "Eq(Derivative(x(t), t), alpha*x(t) + beta*x(t)**2)"
      ]
     },
     "execution_count": 27,
     "metadata": {},
     "output_type": "execute_result"
    }
   ],
   "source": [
    "from sympy import Eq, diff\n",
    "\n",
    "eq = Eq(diff(x(t), t), alpha * x(t) + beta * x(t) ** 2)\n",
    "eq"
   ]
  },
  {
   "attachments": {},
   "cell_type": "markdown",
   "metadata": {},
   "source": [
    "#### 3. Utilizamos la función `dsolve` para resolver la ecuación diferencial."
   ]
  },
  {
   "cell_type": "code",
   "execution_count": 28,
   "metadata": {},
   "outputs": [
    {
     "data": {
      "text/latex": [
       "$\\displaystyle x{\\left(t \\right)} = \\frac{\\alpha e^{\\alpha \\left(C_{1} + t\\right)}}{\\beta \\left(1 - e^{\\alpha \\left(C_{1} + t\\right)}\\right)}$"
      ],
      "text/plain": [
       "Eq(x(t), alpha*exp(alpha*(C1 + t))/(beta*(1 - exp(alpha*(C1 + t)))))"
      ]
     },
     "execution_count": 28,
     "metadata": {},
     "output_type": "execute_result"
    }
   ],
   "source": [
    "from sympy import dsolve\n",
    "\n",
    "solution_eq = dsolve(eq)\n",
    "solution_eq"
   ]
  },
  {
   "attachments": {},
   "cell_type": "markdown",
   "metadata": {},
   "source": [
    "#### 4. Extraemos la solución general de la ecuación diferencial, utilizando el atributo `rhs` de la solución nos devuelve solo el lado derecho de la relacion."
   ]
  },
  {
   "cell_type": "code",
   "execution_count": 29,
   "metadata": {},
   "outputs": [
    {
     "data": {
      "text/latex": [
       "$\\displaystyle \\frac{\\alpha e^{\\alpha \\left(C_{1} + t\\right)}}{\\beta \\left(1 - e^{\\alpha \\left(C_{1} + t\\right)}\\right)}$"
      ],
      "text/plain": [
       "alpha*exp(alpha*(C1 + t))/(beta*(1 - exp(alpha*(C1 + t))))"
      ]
     },
     "execution_count": 29,
     "metadata": {},
     "output_type": "execute_result"
    }
   ],
   "source": [
    "general = solution_eq.rhs\n",
    "general"
   ]
  },
  {
   "attachments": {},
   "cell_type": "markdown",
   "metadata": {},
   "source": [
    "#### 3. Si se proporcionan condiciones iniciales, podemos aplicarlas para obtener una solución particular. Solución para t = 0, encontramos la población inicial Xo. Consiste en reemplazar t por 0. "
   ]
  },
  {
   "cell_type": "code",
   "execution_count": 30,
   "metadata": {},
   "outputs": [
    {
     "data": {
      "text/latex": [
       "$\\displaystyle \\frac{\\alpha e^{C_{1} \\alpha}}{\\beta \\left(1 - e^{C_{1} \\alpha}\\right)}$"
      ],
      "text/plain": [
       "alpha*exp(C1*alpha)/(beta*(1 - exp(C1*alpha)))"
      ]
     },
     "execution_count": 30,
     "metadata": {},
     "output_type": "execute_result"
    }
   ],
   "source": [
    "solution_t0 = general.subs(t, 0)\n",
    "solution_t0  # Solución particular para t = 0"
   ]
  },
  {
   "cell_type": "code",
   "execution_count": 31,
   "metadata": {},
   "outputs": [
    {
     "data": {
      "text/latex": [
       "$\\displaystyle \\frac{\\alpha e^{C_{1} \\alpha}}{\\beta \\left(1 - e^{C_{1} \\alpha}\\right)} = x_{0}$"
      ],
      "text/plain": [
       "Eq(alpha*exp(C1*alpha)/(beta*(1 - exp(C1*alpha))), x_0)"
      ]
     },
     "execution_count": 31,
     "metadata": {},
     "output_type": "execute_result"
    }
   ],
   "source": [
    "C1, x_0 = symbols(\"C1 x_0\")\n",
    "eq_temporal = Eq(solution_t0, x_0)\n",
    "eq_temporal"
   ]
  },
  {
   "attachments": {},
   "cell_type": "markdown",
   "metadata": {},
   "source": [
    "#### 4. Resolvemos la ecuación en funcion de C1, utilizando la función `solve`. Consiste en despejar C1 de la solución con condición de contorno t = 0. Nos queda expresada C1 en función de la población inicial."
   ]
  },
  {
   "cell_type": "code",
   "execution_count": 32,
   "metadata": {},
   "outputs": [
    {
     "data": {
      "text/latex": [
       "$\\displaystyle \\frac{\\log{\\left(\\frac{\\beta x_{0}}{\\alpha + \\beta x_{0}} \\right)}}{\\alpha}$"
      ],
      "text/plain": [
       "log(beta*x_0/(alpha + beta*x_0))/alpha"
      ]
     },
     "execution_count": 32,
     "metadata": {},
     "output_type": "execute_result"
    }
   ],
   "source": [
    "from sympy import solve\n",
    "\n",
    "solutions = solve(eq_temporal, C1)\n",
    "value_of_C1 = solutions[0]\n",
    "value_of_C1"
   ]
  },
  {
   "attachments": {},
   "cell_type": "markdown",
   "metadata": {},
   "source": [
    "#### 5. Obtenemos la solución particular, sustituyendo `C1` por el valor que se encontró `value_of_c1`. Valor expresado en población inicial."
   ]
  },
  {
   "cell_type": "code",
   "execution_count": 33,
   "metadata": {},
   "outputs": [
    {
     "data": {
      "text/latex": [
       "$\\displaystyle \\frac{\\alpha e^{\\alpha \\left(t + \\frac{\\log{\\left(\\frac{\\beta x_{0}}{\\alpha + \\beta x_{0}} \\right)}}{\\alpha}\\right)}}{\\beta \\left(1 - e^{\\alpha \\left(t + \\frac{\\log{\\left(\\frac{\\beta x_{0}}{\\alpha + \\beta x_{0}} \\right)}}{\\alpha}\\right)}\\right)}$"
      ],
      "text/plain": [
       "alpha*exp(alpha*(t + log(beta*x_0/(alpha + beta*x_0))/alpha))/(beta*(1 - exp(alpha*(t + log(beta*x_0/(alpha + beta*x_0))/alpha))))"
      ]
     },
     "execution_count": 33,
     "metadata": {},
     "output_type": "execute_result"
    }
   ],
   "source": [
    "particular = general.subs(C1, value_of_C1)\n",
    "particular"
   ]
  },
  {
   "attachments": {},
   "cell_type": "markdown",
   "metadata": {},
   "source": [
    "#### 6. El resultado es complicado, pero podemos simplificarlo utilizando la función `simplify`."
   ]
  },
  {
   "cell_type": "code",
   "execution_count": 34,
   "metadata": {},
   "outputs": [
    {
     "data": {
      "text/latex": [
       "$\\displaystyle \\frac{\\alpha x_{0} e^{\\alpha t}}{\\alpha - \\beta x_{0} e^{\\alpha t} + \\beta x_{0}}$"
      ],
      "text/plain": [
       "alpha*x_0*exp(alpha*t)/(alpha - beta*x_0*exp(alpha*t) + beta*x_0)"
      ]
     },
     "execution_count": 34,
     "metadata": {},
     "output_type": "execute_result"
    }
   ],
   "source": [
    "from sympy import simplify\n",
    "\n",
    "p_simpler = simplify(particular)\n",
    "p_simpler"
   ]
  },
  {
   "attachments": {},
   "cell_type": "markdown",
   "metadata": {},
   "source": [
    "#### 7. Vamos a comprobar que la ecuacion que encontramos (simpler) es equivalente con la ecuacion logistica."
   ]
  },
  {
   "attachments": {},
   "cell_type": "markdown",
   "metadata": {},
   "source": [
    "Construcción de la ecuacion logistica con parámetros r, K y x₀"
   ]
  },
  {
   "cell_type": "code",
   "execution_count": 35,
   "metadata": {},
   "outputs": [],
   "source": [
    "alpha, beta, x_0 = symbols(\"alpha beta x_0\")\n",
    "\n",
    "r = alpha\n",
    "K = -alpha / beta\n",
    "A = (K - x_0) / x_0"
   ]
  },
  {
   "cell_type": "code",
   "execution_count": 36,
   "metadata": {},
   "outputs": [],
   "source": [
    "from sympy import exp\n",
    "\n",
    "eq_log = K / (1 + A * exp(-r * t))"
   ]
  },
  {
   "cell_type": "code",
   "execution_count": 37,
   "metadata": {},
   "outputs": [
    {
     "data": {
      "text/latex": [
       "$\\displaystyle - \\frac{\\alpha x_{0} e^{\\alpha t}}{\\alpha - \\beta x_{0} e^{\\alpha t} + \\beta x_{0}} - \\frac{\\alpha}{\\beta \\left(1 + \\frac{\\left(- \\frac{\\alpha}{\\beta} - x_{0}\\right) e^{- \\alpha t}}{x_{0}}\\right)}$"
      ],
      "text/plain": [
       "-alpha*x_0*exp(alpha*t)/(alpha - beta*x_0*exp(alpha*t) + beta*x_0) - alpha/(beta*(1 + (-alpha/beta - x_0)*exp(-alpha*t)/x_0))"
      ]
     },
     "execution_count": 37,
     "metadata": {},
     "output_type": "execute_result"
    }
   ],
   "source": [
    "eq_log - p_simpler"
   ]
  },
  {
   "cell_type": "code",
   "execution_count": 38,
   "metadata": {},
   "outputs": [
    {
     "data": {
      "text/latex": [
       "$\\displaystyle 0$"
      ],
      "text/plain": [
       "0"
      ]
     },
     "execution_count": 38,
     "metadata": {},
     "output_type": "execute_result"
    }
   ],
   "source": [
    "simplify(eq_log - p_simpler)"
   ]
  },
  {
   "attachments": {},
   "cell_type": "markdown",
   "metadata": {},
   "source": [
    ">Observamos que `eq_log` y `p_simpler` dan cero porque ambos expresan la misma solución de la ecuación diferencial de crecimiento cuadrático con diferentes parametrizaciones.\n",
    ">\n",
    ">La variable `eq_log` representa la solución en forma logística, donde se utiliza la tasa de crecimiento `r` y la capacidad de carga `K`.\n",
    ">\n",
    ">Por otro lado, `p_simpler` es la solución particular obtenida anteriormente, expresada en función de la población inicial `x_0`."
   ]
  }
 ],
 "metadata": {
  "kernelspec": {
   "display_name": "env",
   "language": "python",
   "name": "python3"
  },
  "language_info": {
   "codemirror_mode": {
    "name": "ipython",
    "version": 3
   },
   "file_extension": ".py",
   "mimetype": "text/x-python",
   "name": "python",
   "nbconvert_exporter": "python",
   "pygments_lexer": "ipython3",
   "version": "3.10.9"
  },
  "orig_nbformat": 4
 },
 "nbformat": 4,
 "nbformat_minor": 2
}
