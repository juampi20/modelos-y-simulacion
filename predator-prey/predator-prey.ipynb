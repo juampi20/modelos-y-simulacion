{
 "cells": [
  {
   "attachments": {},
   "cell_type": "markdown",
   "id": "82cd1ccf",
   "metadata": {},
   "source": [
    "# Enunciado\n",
    "\n",
    "La variable tiempo pude expresarse en “semanas”. Suponemos que la tasa de sobrevivencia de los zorros (sólo por respirar) es del orden del 20% de su biomasa. De allí que el coeficiente de zorros a tasa de sobrev. es de 0.2 y de –1 de tasa a zorros. El crecimiento de las liebres es del orden del 8% por semana, en condiciones ideales, es decir sin límite de alimentación provista por el campo. Entonces la relación liebres a crecimiento neto es 0.08. Sin embargo este crecimiento está limitado a la capacidad actual del terreno, de allí que debemos relacionarla con esta variable y con la capacidad máxima del terreno. Las población de las liebres también están regulada por la población de los zorros. Esta variable reguladora entre los zorros y las liebres la llamamos caza. A fin de evaluar los coeficientes de la caza, debemos estimar que los zorros puedan subsistir y compensar su gasto en respiración (energía interna). En una población normal de 500 liebres y 10 zorros, los zorros apenas pueden sobrevivir ; la relación de caza entre zorros y liebres es el producto 500 libres * 10 zorros = 5000 encuentros. Las pérdidas de zorros es 0.2*10 = 2; de allí obtenemos que por cada liebre cazada sobreviven 2/5000=0.0004 zorros. Las pérdidas en la población de liebres por cada caza es 10 z. /5000 enc. = -0.0002."
   ]
  },
  {
   "cell_type": "code",
   "execution_count": null,
   "id": "f6ab2ac7",
   "metadata": {},
   "outputs": [],
   "source": [
    "# Parametros Iniciales\n",
    "weeks = 500 # Cantidad de semanas que hara la simulacion.\n",
    "time_interval = 1 # Incremento de tiempo en semanas.\n",
    "terrain_capacity = 2500 # Capacidad del terreno de alimentar liebres.\n",
    "rabbits_population = 500 # Cantidad inicial de liebres.\n",
    "foxes_population = 10 # Cantidad inicial de zorros.\n",
    "rabbits_growth_rate = 8 / 100 # Tasa de crecimiento de liebres. (% por semana)\n",
    "foxes_loss_rate = 20 / 100 # Tasa de mortalidad de zorros. (% por semana)\n",
    "\n",
    "# Tasa de mortalidad de los conejos durante los encuentros de caza.\n",
    "# Formula: foxes_population / foxes_population * rabbits_population\n",
    "hunting_encounters_rate = 0.0002\n",
    "\n",
    "# Tasa de crecimiento de la poblacion de zorros durante los encuentros de caza.\n",
    "# Formula: foxes_loss_rate * foxes_population / foxes_population * rabbits_population\n",
    "foxes_population_increase = 0.0004"
   ]
  },
  {
   "attachments": {},
   "cell_type": "markdown",
   "id": "1afc1b31",
   "metadata": {},
   "source": [
    "### Simulacion"
   ]
  },
  {
   "cell_type": "code",
   "execution_count": null,
   "id": "e460cea1",
   "metadata": {},
   "outputs": [],
   "source": [
    "import pandas as pd\n",
    "\n",
    "# Creación de un DataFrame para almacenar los resultados de la simulación\n",
    "data = pd.DataFrame([])\n",
    "# Agregamos los valores iniciales\n",
    "data = pd.concat([data, pd.DataFrame({'Semana': 0, 'Liebres': int(rabbits_population), 'Zorros': int(foxes_population)}, index=[0])], ignore_index=True)\n",
    "# Mostramos la tabla inicial\n",
    "data[['Semana', 'Liebres', 'Zorros']]"
   ]
  },
  {
   "cell_type": "code",
   "execution_count": null,
   "id": "754464e1",
   "metadata": {
    "scrolled": true
   },
   "outputs": [],
   "source": [
    "# Bucle para iterar sobre el modelo\n",
    "for week in range(1, weeks+1):\n",
    "    # Capacidad actual del terreno para sostener a las liebres\n",
    "    # CAP_ACT = CAP_TER – LIEBRES\n",
    "    current_terrain_capacity = terrain_capacity - rabbits_population\n",
    "    \n",
    "    # Aumento de la población de liebres en función de la capacidad del terreno\n",
    "    # TASA_LIE = (1/CAP_TER) * CAP_ACT * 0.08 * LIEBRES\n",
    "    rabbit_population_increase = (1 / terrain_capacity) * current_terrain_capacity * rabbits_growth_rate * rabbits_population\n",
    "    \n",
    "    # Cantidad de zorros que sobreviven cada semana sin comer\n",
    "    # SOB_ZOR = 0.2 * ZORROS\n",
    "    foxes_loss_population = foxes_loss_rate * foxes_population\n",
    "    \n",
    "    # Cantidad de encuentros de caza que se producen en la semana\n",
    "    # CAZA = ZORROS *LIEBRES\n",
    "    hunting_encounters = foxes_population * rabbits_population\n",
    "    \n",
    "    # Actualización de la población de liebres\n",
    "    # LIEBRES = LIEBRES + DT* (TAS_LIE – 0.002 * CAZA)\n",
    "    rabbits_population += time_interval * (rabbit_population_increase - (hunting_encounters_rate * hunting_encounters)) # Evita que la población de liebres sea negativa.\n",
    "    \n",
    "    # Actualización de la población de zorros\n",
    "    # ZORROS = ZORROS + DT* (0.004*CAZA – SOB_ZOR)\n",
    "    foxes_population += time_interval * ((foxes_population_increase * hunting_encounters) - foxes_loss_population) # Evita que la población de zorros sea negativa.\n",
    "    \n",
    "    # Agrega las poblaciones de liebres y zorros al DataFrame\n",
    "    data = pd.concat([data, pd.DataFrame({'Semana': week, 'Liebres': int(rabbits_population), 'Zorros': int(foxes_population)}, index=[0])], ignore_index=True)\n",
    "\n",
    "# Muestra el DataFrame sin el indice\n",
    "data[['Semana', 'Liebres', 'Zorros']]"
   ]
  },
  {
   "attachments": {},
   "cell_type": "markdown",
   "id": "7da4685c",
   "metadata": {},
   "source": [
    "### Grafico de poblaciones"
   ]
  },
  {
   "cell_type": "code",
   "execution_count": null,
   "id": "9906331b",
   "metadata": {},
   "outputs": [],
   "source": [
    "import matplotlib.pyplot as plt\n",
    "\n",
    "# Creación de la gráfica\n",
    "plt.plot(data['Liebres'].tolist(), label=\"Liebres\")\n",
    "plt.plot(data['Zorros'].tolist(), label=\"Zorros\")\n",
    "plt.xlabel(\"Tiempo\")\n",
    "plt.ylabel(\"Población\")\n",
    "plt.title(\"Evolución de la población de zorros y liebres\")\n",
    "plt.legend()\n",
    "plt.show()"
   ]
  },
  {
   "attachments": {},
   "cell_type": "markdown",
   "id": "6bd796a9",
   "metadata": {},
   "source": [
    "### Diagrama de fase\n",
    "El diagrama de fase muestra la relación entre las poblaciones de liebres y zorros"
   ]
  },
  {
   "cell_type": "code",
   "execution_count": null,
   "id": "71a2e21f",
   "metadata": {},
   "outputs": [],
   "source": [
    "import matplotlib.pyplot as plt\n",
    "\n",
    "# Creación del diagrama de fase\n",
    "plt.plot(data['Liebres'].tolist(), data['Zorros'].tolist())\n",
    "plt.xlabel(\"Población de Liebres\")\n",
    "plt.ylabel(\"Población de Zorros\")\n",
    "plt.title(\"Diagrama de fase de población de zorros y liebres\")\n",
    "plt.show()"
   ]
  }
 ],
 "metadata": {
  "kernelspec": {
   "display_name": "Python 3 (ipykernel)",
   "language": "python",
   "name": "python3"
  },
  "language_info": {
   "codemirror_mode": {
    "name": "ipython",
    "version": 3
   },
   "file_extension": ".py",
   "mimetype": "text/x-python",
   "name": "python",
   "nbconvert_exporter": "python",
   "pygments_lexer": "ipython3",
   "version": "3.10.6"
  }
 },
 "nbformat": 4,
 "nbformat_minor": 5
}
