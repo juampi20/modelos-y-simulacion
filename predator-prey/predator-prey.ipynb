{
 "cells": [
  {
   "cell_type": "code",
   "execution_count": 1,
   "id": "f6ab2ac7",
   "metadata": {},
   "outputs": [],
   "source": [
    "# Parametros Iniciales\n",
    "weeks = 100 # Cantidad de semanas que hara la simulacion.\n",
    "time_interval = 1 # Incremento de tiempo en semanas.\n",
    "terrain_capacity = 1000 # Capacidad del terreno de alimentar liebres.\n",
    "rabbits_population = 500 # Cantidad inicial de liebres.\n",
    "foxes_population = 10 # Cantidad inicial de zorros.\n",
    "rabbits_growth_rate = 0.08 # Tasa de crecimiento de liebres. (% por semana)\n",
    "foxes_survival_rate = 0.2 # Tasa de supervivencia de zorros. (% por semana)\n",
    "hunting_encounters = foxes_population * rabbits_population # Cantidad inicial de encuentros de caza\n",
    "hunting_encounters_rate = foxes_population / hunting_encounters # Tasa de mortalidad de los liebres por cada caza.\n",
    "foxes_population_increase = foxes_survival_rate * foxes_population / hunting_encounters   # Tasa de crecimiento de la poblacion de zorros por cada caza."
   ]
  },
  {
   "cell_type": "code",
   "execution_count": 2,
   "id": "02fddaac",
   "metadata": {},
   "outputs": [],
   "source": [
    "# Creación de listas para almacenar los resultados de la simulación\n",
    "rabbits_population_list = [rabbits_population]\n",
    "foxes_population_list = [foxes_population]"
   ]
  },
  {
   "cell_type": "code",
   "execution_count": 3,
   "id": "754464e1",
   "metadata": {
    "scrolled": true
   },
   "outputs": [
    {
     "name": "stdout",
     "output_type": "stream",
     "text": [
      "Semana 1 | Liebres: 510 | Zorros: 10\n",
      "Semana 2 | Liebres: 519 | Zorros: 10\n",
      "Semana 3 | Liebres: 529 | Zorros: 10\n",
      "Semana 4 | Liebres: 538 | Zorros: 10\n",
      "Semana 5 | Liebres: 547 | Zorros: 10\n",
      "Semana 6 | Liebres: 555 | Zorros: 10\n",
      "Semana 7 | Liebres: 563 | Zorros: 10\n",
      "Semana 8 | Liebres: 571 | Zorros: 11\n",
      "Semana 9 | Liebres: 578 | Zorros: 11\n",
      "Semana 10 | Liebres: 584 | Zorros: 11\n",
      "Semana 11 | Liebres: 590 | Zorros: 12\n",
      "Semana 12 | Liebres: 595 | Zorros: 12\n",
      "Semana 13 | Liebres: 599 | Zorros: 13\n",
      "Semana 14 | Liebres: 602 | Zorros: 13\n",
      "Semana 15 | Liebres: 605 | Zorros: 14\n",
      "Semana 16 | Liebres: 607 | Zorros: 14\n",
      "Semana 17 | Liebres: 608 | Zorros: 15\n",
      "Semana 18 | Liebres: 608 | Zorros: 16\n",
      "Semana 19 | Liebres: 608 | Zorros: 16\n",
      "Semana 20 | Liebres: 607 | Zorros: 17\n",
      "Semana 21 | Liebres: 604 | Zorros: 18\n",
      "Semana 22 | Liebres: 601 | Zorros: 19\n",
      "Semana 23 | Liebres: 598 | Zorros: 19\n",
      "Semana 24 | Liebres: 593 | Zorros: 20\n",
      "Semana 25 | Liebres: 588 | Zorros: 21\n",
      "Semana 26 | Liebres: 582 | Zorros: 22\n",
      "Semana 27 | Liebres: 576 | Zorros: 22\n",
      "Semana 28 | Liebres: 569 | Zorros: 23\n",
      "Semana 29 | Liebres: 562 | Zorros: 24\n",
      "Semana 30 | Liebres: 554 | Zorros: 24\n",
      "Semana 31 | Liebres: 547 | Zorros: 25\n",
      "Semana 32 | Liebres: 539 | Zorros: 25\n",
      "Semana 33 | Liebres: 531 | Zorros: 26\n",
      "Semana 34 | Liebres: 523 | Zorros: 26\n",
      "Semana 35 | Liebres: 515 | Zorros: 26\n",
      "Semana 36 | Liebres: 507 | Zorros: 26\n",
      "Semana 37 | Liebres: 500 | Zorros: 27\n",
      "Semana 38 | Liebres: 493 | Zorros: 27\n",
      "Semana 39 | Liebres: 486 | Zorros: 26\n",
      "Semana 40 | Liebres: 480 | Zorros: 26\n",
      "Semana 41 | Liebres: 474 | Zorros: 26\n",
      "Semana 42 | Liebres: 469 | Zorros: 26\n",
      "Semana 43 | Liebres: 464 | Zorros: 26\n",
      "Semana 44 | Liebres: 460 | Zorros: 25\n",
      "Semana 45 | Liebres: 456 | Zorros: 25\n",
      "Semana 46 | Liebres: 453 | Zorros: 24\n",
      "Semana 47 | Liebres: 450 | Zorros: 24\n",
      "Semana 48 | Liebres: 448 | Zorros: 23\n",
      "Semana 49 | Liebres: 446 | Zorros: 23\n",
      "Semana 50 | Liebres: 445 | Zorros: 22\n",
      "Semana 51 | Liebres: 444 | Zorros: 22\n",
      "Semana 52 | Liebres: 444 | Zorros: 21\n",
      "Semana 53 | Liebres: 445 | Zorros: 21\n",
      "Semana 54 | Liebres: 445 | Zorros: 20\n",
      "Semana 55 | Liebres: 446 | Zorros: 20\n",
      "Semana 56 | Liebres: 448 | Zorros: 20\n",
      "Semana 57 | Liebres: 450 | Zorros: 19\n",
      "Semana 58 | Liebres: 452 | Zorros: 19\n",
      "Semana 59 | Liebres: 454 | Zorros: 18\n",
      "Semana 60 | Liebres: 457 | Zorros: 18\n",
      "Semana 61 | Liebres: 460 | Zorros: 18\n",
      "Semana 62 | Liebres: 463 | Zorros: 17\n",
      "Semana 63 | Liebres: 466 | Zorros: 17\n",
      "Semana 64 | Liebres: 470 | Zorros: 17\n",
      "Semana 65 | Liebres: 473 | Zorros: 17\n",
      "Semana 66 | Liebres: 477 | Zorros: 17\n",
      "Semana 67 | Liebres: 480 | Zorros: 16\n",
      "Semana 68 | Liebres: 484 | Zorros: 16\n",
      "Semana 69 | Liebres: 488 | Zorros: 16\n",
      "Semana 70 | Liebres: 492 | Zorros: 16\n",
      "Semana 71 | Liebres: 495 | Zorros: 16\n",
      "Semana 72 | Liebres: 499 | Zorros: 16\n",
      "Semana 73 | Liebres: 502 | Zorros: 16\n",
      "Semana 74 | Liebres: 506 | Zorros: 16\n",
      "Semana 75 | Liebres: 509 | Zorros: 16\n",
      "Semana 76 | Liebres: 512 | Zorros: 16\n",
      "Semana 77 | Liebres: 515 | Zorros: 16\n",
      "Semana 78 | Liebres: 518 | Zorros: 16\n",
      "Semana 79 | Liebres: 520 | Zorros: 16\n",
      "Semana 80 | Liebres: 523 | Zorros: 17\n",
      "Semana 81 | Liebres: 525 | Zorros: 17\n",
      "Semana 82 | Liebres: 527 | Zorros: 17\n",
      "Semana 83 | Liebres: 528 | Zorros: 17\n",
      "Semana 84 | Liebres: 530 | Zorros: 17\n",
      "Semana 85 | Liebres: 531 | Zorros: 18\n",
      "Semana 86 | Liebres: 531 | Zorros: 18\n",
      "Semana 87 | Liebres: 532 | Zorros: 18\n",
      "Semana 88 | Liebres: 532 | Zorros: 18\n",
      "Semana 89 | Liebres: 532 | Zorros: 18\n",
      "Semana 90 | Liebres: 532 | Zorros: 19\n",
      "Semana 91 | Liebres: 531 | Zorros: 19\n",
      "Semana 92 | Liebres: 531 | Zorros: 19\n",
      "Semana 93 | Liebres: 530 | Zorros: 19\n",
      "Semana 94 | Liebres: 528 | Zorros: 20\n",
      "Semana 95 | Liebres: 527 | Zorros: 20\n",
      "Semana 96 | Liebres: 525 | Zorros: 20\n",
      "Semana 97 | Liebres: 524 | Zorros: 20\n",
      "Semana 98 | Liebres: 522 | Zorros: 21\n",
      "Semana 99 | Liebres: 520 | Zorros: 21\n",
      "Semana 100 | Liebres: 517 | Zorros: 21\n"
     ]
    }
   ],
   "source": [
    "# Bucle para iterar sobre el modelo\n",
    "for week in range(weeks):\n",
    "    # Capacidad actual del terreno para sostener a las liebres\n",
    "    current_terrain_capacity = terrain_capacity - rabbits_population\n",
    "    \n",
    "    # Aumento de la población de liebres en función de la capacidad del terreno\n",
    "    rabbit_population_increase = (1 / terrain_capacity) * current_terrain_capacity * rabbits_growth_rate * rabbits_population\n",
    "    \n",
    "    # Cantidad de zorros que sobreviven cada semana sin comer\n",
    "    foxes_surviving_population = foxes_survival_rate * foxes_population\n",
    "    \n",
    "    # Cantidad de encuentros de caza que se producen en la semana\n",
    "    hunting_encounters = foxes_population * rabbits_population\n",
    "    \n",
    "    # Actualización de la población de liebres\n",
    "    rabbits_population = max(rabbits_population + time_interval * (rabbit_population_increase - hunting_encounters_rate * hunting_encounters), 0) # Evita que la población de liebres sea negativa.\n",
    "    \n",
    "    # Actualización de la población de zorros\n",
    "    foxes_population = max(foxes_population + time_interval * (foxes_population_increase * hunting_encounters - foxes_surviving_population), 0) # Evita que la población de zorros sea negativa.\n",
    "    \n",
    "    rabbits_population_list.append(rabbits_population)\n",
    "    foxes_population_list.append(foxes_population)\n",
    "    \n",
    "    # Imprime las poblaciones de liebres y zorros para cada semana\n",
    "    print(f\"Semana {week+1} | Liebres: {int(rabbits_population)} | Zorros: {int(foxes_population)}\")"
   ]
  },
  {
   "cell_type": "code",
   "execution_count": 4,
   "id": "9906331b",
   "metadata": {},
   "outputs": [
    {
     "data": {
      "image/png": "[encoded data removed]",
      "text/plain": [
       "<Figure size 640x480 with 1 Axes>"
      ]
     },
     "metadata": {},
     "output_type": "display_data"
    }
   ],
   "source": [
    "import matplotlib.pyplot as plt\n",
    "\n",
    "# Creación de la gráfica\n",
    "plt.plot(rabbits_population_list, label=\"Liebres\")\n",
    "plt.plot(foxes_population_list, label=\"Zorros\")\n",
    "plt.xlabel(\"Tiempo\")\n",
    "plt.ylabel(\"Población\")\n",
    "plt.title(\"Evolución de la población de zorros y liebres\")\n",
    "plt.legend()\n",
    "plt.show()"
   ]
  },
  {
   "cell_type": "code",
   "execution_count": null,
   "id": "2da6045d",
   "metadata": {},
   "outputs": [],
   "source": []
  }
 ],
 "metadata": {
  "kernelspec": {
   "display_name": "Python 3 (ipykernel)",
   "language": "python",
   "name": "python3"
  },
  "language_info": {
   "codemirror_mode": {
    "name": "ipython",
    "version": 3
   },
   "file_extension": ".py",
   "mimetype": "text/x-python",
   "name": "python",
   "nbconvert_exporter": "python",
   "pygments_lexer": "ipython3",
   "version": "3.10.10"
  }
 },
 "nbformat": 4,
 "nbformat_minor": 5
}
